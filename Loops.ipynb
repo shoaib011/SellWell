{
 "cells": [
  {
   "cell_type": "code",
   "execution_count": 3,
   "metadata": {},
   "outputs": [
    {
     "name": "stdout",
     "output_type": "stream",
     "text": [
      "count is:  0\n",
      "count is:  1\n",
      "count is:  2\n",
      "count is:  3\n",
      "count is:  4\n",
      "end of loop\n"
     ]
    }
   ],
   "source": [
    "count = 0\n",
    "while count < 5:\n",
    "    print (\"count is: \", count)\n",
    "    count = count + 1\n",
    "print (\"end of loop\")"
   ]
  },
  {
   "cell_type": "code",
   "execution_count": 11,
   "metadata": {},
   "outputs": [
    {
     "name": "stdout",
     "output_type": "stream",
     "text": [
      "count is:  0\n",
      "count is:  1\n",
      "count is:  2\n",
      "count is:  3\n",
      "count is:  4\n",
      "end of loop\n"
     ]
    }
   ],
   "source": [
    "mylist =[0,1,2,3,4]\n",
    "for count in mylist:\n",
    "    print (\"count is: \", count)\n",
    "print (\"end of loop\")"
   ]
  },
  {
   "cell_type": "code",
   "execution_count": null,
   "metadata": {},
   "outputs": [],
   "source": []
  }
 ],
 "metadata": {
  "kernelspec": {
   "display_name": "Python 3",
   "language": "python",
   "name": "python3"
  },
  "language_info": {
   "codemirror_mode": {
    "name": "ipython",
    "version": 3
   },
   "file_extension": ".py",
   "mimetype": "text/x-python",
   "name": "python",
   "nbconvert_exporter": "python",
   "pygments_lexer": "ipython3",
   "version": "3.8.5"
  }
 },
 "nbformat": 4,
 "nbformat_minor": 4
}
